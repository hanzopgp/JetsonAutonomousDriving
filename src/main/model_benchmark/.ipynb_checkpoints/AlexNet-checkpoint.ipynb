{
 "cells": [
  {
   "cell_type": "code",
   "execution_count": 1,
   "id": "5beaa03c-e810-4731-9c9a-73ad6f913147",
   "metadata": {},
   "outputs": [],
   "source": [
    "import numpy as np\n",
    "from tqdm import tqdm\n",
    "from time import time\n",
    "\n",
    "import torchvision\n",
    "from torchvision import models, transforms\n",
    "\n",
    "import torch\n",
    "from torch import nn\n",
    "from torch.utils.tensorboard import SummaryWriter"
   ]
  },
  {
   "cell_type": "code",
   "execution_count": 2,
   "id": "35b67a2a-1ac7-40d4-ba5c-754050c17d20",
   "metadata": {},
   "outputs": [],
   "source": [
    "def accuracy(yhat,y):\n",
    "    # si y encode les indexes\n",
    "    if len(y.shape)==1 or y.size(1)==1:\n",
    "        return (torch.argmax(yhat,1).view(y.size(0),-1)== y.view(-1,1)).double().mean()\n",
    "    # si y est encodé en onehot\n",
    "    return (torch.argmax(yhat,1).view(-1) == torch.argmax(y,1).view(-1)).double().mean()\n",
    "\n",
    "def train(model,epochs,train_loader,test_loader,feature_extract=False):\n",
    "    model = model.to(device)\n",
    "    writer = SummaryWriter(f\"{TB_PATH}/{model.name}\")\n",
    "    \n",
    "    params_to_update = model.parameters()\n",
    "    print(\"params to learn:\")\n",
    "    if feature_extract:\n",
    "        params_to_update = []\n",
    "        for name,param in model.named_parameters():\n",
    "            if param.requires_grad == True:\n",
    "                params_to_update.append(param)\n",
    "                print(\"\\t\",name)\n",
    "    else:\n",
    "        for name,param in model.named_parameters():\n",
    "            if param.requires_grad == True:\n",
    "                print(\"\\t\",name)\n",
    "    optim = torch.optim.Adam(params_to_update,lr=1e-3)\n",
    "    \n",
    "    print(f\"running {model.name}\")\n",
    "    loss = nn.CrossEntropyLoss()\n",
    "    for epoch in tqdm(range(epochs)):\n",
    "        cumloss, cumacc, count = 0, 0, 0\n",
    "        model.train()\n",
    "        for x,y in train_loader:\n",
    "            optim.zero_grad()\n",
    "            x,y = x.to(device), y.to(device)\n",
    "            yhat = model(x)\n",
    "            l = loss(yhat,y)\n",
    "            l.backward()\n",
    "            optim.step()\n",
    "            cumloss += l*len(x)\n",
    "            cumacc += accuracy(yhat,y)*len(x)\n",
    "            count += len(x)\n",
    "        writer.add_scalar('loss/train',cumloss/count,epoch)\n",
    "        writer.add_scalar('accuracy/train',cumacc/count,epoch)\n",
    "        if epoch % 1 == 0:\n",
    "            model.eval()\n",
    "            with torch.no_grad():\n",
    "                cumloss, cumacc, count = 0, 0, 0\n",
    "                for x,y in test_loader:\n",
    "                    x,y = x.to(device), y.to(device)\n",
    "                    yhat = model(x)\n",
    "                    cumloss += loss(yhat,y)*len(x)\n",
    "                    cumacc += accuracy(yhat,y)*len(x)\n",
    "                    count += len(x)\n",
    "                writer.add_scalar(f'loss/test',cumloss/count,epoch)\n",
    "                writer.add_scalar('accuracy/test',cumacc/count,epoch)\n",
    "\n",
    "def set_parameter_requires_grad(model, feature_extract):\n",
    "    if feature_extract:\n",
    "        for name,p in model.named_parameters():\n",
    "            if \"features\" in name:\n",
    "                p.requires_grad = False    \n",
    "            else:\n",
    "                p.requires_grad = True  \n",
    "                \n",
    "def get_test_data(dataloader, size):\n",
    "    X_test, Y_test = next(iter(dataloader))\n",
    "    batch_size = len(X_test)\n",
    "    n = size//batch_size\n",
    "    for i, batch in enumerate(dataloader):\n",
    "        if i < n:\n",
    "            X_tmp, Y_tmp = batch\n",
    "            X_test = torch.cat((X_test, X_tmp), 0)\n",
    "            Y_test = torch.cat((Y_test, Y_tmp), 0)\n",
    "    return X_test, Y_test"
   ]
  },
  {
   "cell_type": "code",
   "execution_count": 3,
   "id": "0c34495f-d7c9-42f7-980d-03d26dea6101",
   "metadata": {},
   "outputs": [
    {
     "name": "stdout",
     "output_type": "stream",
     "text": [
      "AlexNet(\n",
      "  (features): Sequential(\n",
      "    (0): Conv2d(3, 64, kernel_size=(11, 11), stride=(4, 4), padding=(2, 2))\n",
      "    (1): ReLU(inplace=True)\n",
      "    (2): MaxPool2d(kernel_size=3, stride=2, padding=0, dilation=1, ceil_mode=False)\n",
      "    (3): Conv2d(64, 192, kernel_size=(5, 5), stride=(1, 1), padding=(2, 2))\n",
      "    (4): ReLU(inplace=True)\n",
      "    (5): MaxPool2d(kernel_size=3, stride=2, padding=0, dilation=1, ceil_mode=False)\n",
      "    (6): Conv2d(192, 384, kernel_size=(3, 3), stride=(1, 1), padding=(1, 1))\n",
      "    (7): ReLU(inplace=True)\n",
      "    (8): Conv2d(384, 256, kernel_size=(3, 3), stride=(1, 1), padding=(1, 1))\n",
      "    (9): ReLU(inplace=True)\n",
      "    (10): Conv2d(256, 256, kernel_size=(3, 3), stride=(1, 1), padding=(1, 1))\n",
      "    (11): ReLU(inplace=True)\n",
      "    (12): MaxPool2d(kernel_size=3, stride=2, padding=0, dilation=1, ceil_mode=False)\n",
      "  )\n",
      "  (avgpool): AdaptiveAvgPool2d(output_size=(6, 6))\n",
      "  (classifier): Sequential(\n",
      "    (0): Dropout(p=0.5, inplace=False)\n",
      "    (1): Linear(in_features=9216, out_features=2048, bias=True)\n",
      "    (2): ReLU(inplace=True)\n",
      "    (3): Dropout(p=0.5, inplace=False)\n",
      "    (4): Linear(in_features=2048, out_features=1024, bias=True)\n",
      "    (5): ReLU(inplace=True)\n",
      "    (6): Linear(in_features=1024, out_features=10, bias=True)\n",
      "  )\n",
      ")\n"
     ]
    }
   ],
   "source": [
    "TB_PATH = \"/tmp/logs/sceance2\"\n",
    "device = torch.device(\"cuda:0\" if torch.cuda.is_available() else \"cpu\")\n",
    "\n",
    "alexnet = models.alexnet(pretrained=True)\n",
    "\n",
    "alexnet.classifier[1] = nn.Linear(9216, 2048)\n",
    "alexnet.classifier[4] = nn.Linear(2048, 1024)\n",
    "alexnet.classifier[6] = nn.Linear(1024, 10)\n",
    "print(alexnet.eval())\n",
    "\n",
    "set_parameter_requires_grad(alexnet, True)"
   ]
  },
  {
   "cell_type": "code",
   "execution_count": 4,
   "id": "2a438d92-209a-4cc5-81cc-5ea045d2d491",
   "metadata": {},
   "outputs": [
    {
     "name": "stdout",
     "output_type": "stream",
     "text": [
      "Files already downloaded and verified\n",
      "Files already downloaded and verified\n"
     ]
    }
   ],
   "source": [
    "input_size = 224\n",
    "batch_size = 128\n",
    "\n",
    "mean=[0.485, 0.456, 0.406]\n",
    "std=[0.229, 0.224, 0.225]\n",
    "\n",
    "transformAlexTrain=transforms.Compose([ # Cette fois on utilise pas de grayscale car nous avons un gros modele pré-entrainé\n",
    "        transforms.RandomResizedCrop(input_size), # selection aléatoire d'une zone de la taille voulue (augmentation des données en apprentissage)\n",
    "        transforms.RandomHorizontalFlip(),\n",
    "        transforms.ToTensor(),\n",
    "        transforms.Normalize(mean, std)\n",
    "    ])\n",
    "transformAlexTest=transforms.Compose([\n",
    "        transforms.Resize(input_size), # selection de la zone centrale de la taille voulue\n",
    "        transforms.CenterCrop(input_size),\n",
    "        transforms.ToTensor(),\n",
    "        transforms.Normalize(mean, std)\n",
    "    ])\n",
    "\n",
    "alex_trainset = torchvision.datasets.CIFAR10(root='./data', train=True, download=True, transform=transformAlexTrain)\n",
    "alex_trainloader = torch.utils.data.DataLoader(alex_trainset, batch_size=batch_size, pin_memory=True, shuffle=True)\n",
    "\n",
    "alex_testset = torchvision.datasets.CIFAR10(root='./data', train=False, download=True, transform=transformAlexTest)\n",
    "alex_testloader = torch.utils.data.DataLoader(alex_testset, batch_size=batch_size, pin_memory=True, shuffle=True)"
   ]
  },
  {
   "cell_type": "code",
   "execution_count": 5,
   "id": "9eb08fcf-533d-48c9-a773-0bd9be5a3b27",
   "metadata": {},
   "outputs": [
    {
     "name": "stdout",
     "output_type": "stream",
     "text": [
      "params to learn:\n",
      "\t classifier.1.weight\n",
      "\t classifier.1.bias\n",
      "\t classifier.4.weight\n",
      "\t classifier.4.bias\n",
      "\t classifier.6.weight\n",
      "\t classifier.6.bias\n",
      "running AlexNet\n"
     ]
    },
    {
     "name": "stderr",
     "output_type": "stream",
     "text": [
      "100%|██████████| 1/1 [09:55<00:00, 595.25s/it]\n"
     ]
    }
   ],
   "source": [
    "## Entraînement du réseau\n",
    "alexnet.name = \"AlexNet\"\n",
    "train(alexnet, 1, alex_trainloader, alex_testloader)"
   ]
  },
  {
   "cell_type": "code",
   "execution_count": 6,
   "id": "cf130d51-271e-4576-bfd8-3d5d850abbd0",
   "metadata": {},
   "outputs": [
    {
     "name": "stdout",
     "output_type": "stream",
     "text": [
      "Acc for alexnet transfer learning : tensor(0.7734, dtype=torch.float64)\n"
     ]
    }
   ],
   "source": [
    "## Accuracy\n",
    "X_test, Y_test = get_test_data(alex_testloader, 1000) \n",
    "X_test, Y_test = X_test.to(device), Y_test.to(device)\n",
    "print(\"Acc for alexnet transfer learning :\", accuracy(alexnet(X_test), Y_test))"
   ]
  },
  {
   "cell_type": "code",
   "execution_count": 7,
   "id": "b1425417-6489-4bc2-9596-2eac60f2950e",
   "metadata": {},
   "outputs": [
    {
     "name": "stdout",
     "output_type": "stream",
     "text": [
      "FPS: 20  --> seconds: 0.1450209617614746\n",
      "FPS: 40  --> seconds: 0.27269434928894043\n",
      "FPS: 60  --> seconds: 0.4267902374267578\n",
      "FPS: 80  --> seconds: 0.5233805179595947\n",
      "FPS: 100  --> seconds: 0.6992733478546143\n",
      "FPS: 120  --> seconds: 0.8021683692932129\n"
     ]
    }
   ],
   "source": [
    "for t in (20,40,60,80,100,120):\n",
    "    t0 = time()\n",
    "    alexnet(X_test[:t])\n",
    "    print(\"FPS:\", t, \" --> seconds:\", (time() - t0))"
   ]
  }
 ],
 "metadata": {
  "kernelspec": {
   "display_name": "Python [conda env:root] *",
   "language": "python",
   "name": "conda-root-py"
  },
  "language_info": {
   "codemirror_mode": {
    "name": "ipython",
    "version": 3
   },
   "file_extension": ".py",
   "mimetype": "text/x-python",
   "name": "python",
   "nbconvert_exporter": "python",
   "pygments_lexer": "ipython3",
   "version": "3.8.12"
  }
 },
 "nbformat": 4,
 "nbformat_minor": 5
}
