{
  "cells": [
    {
      "cell_type": "markdown",
      "metadata": {
        "execution": {
          "iopub.execute_input": "2022-04-11T16:15:07.161381Z",
          "iopub.status.busy": "2022-04-11T16:15:07.160836Z",
          "iopub.status.idle": "2022-04-11T16:15:08.995876Z",
          "shell.execute_reply": "2022-04-11T16:15:08.995057Z",
          "shell.execute_reply.started": "2022-04-11T16:15:07.161292Z"
        },
        "id": "NT4f2Kygv7iE"
      },
      "source": [
        "# Importation"
      ]
    },
    {
      "cell_type": "code",
      "execution_count": 1,
      "metadata": {
        "id": "hhSLshnwwFP1"
      },
      "outputs": [],
      "source": [
        "# ! pip install kaggle\n",
        "# ! mkdir ~/.kaggle\n",
        "# ! cp kaggle.json ~/.kaggle/\n",
        "# ! chmod 600 ~/.kaggle/kaggle.json\n",
        "# ! kaggle datasets download -d enzodurand/boudingboxonlyhanddataset\n",
        "# ! unzip boudingboxonlyhanddataset.zip"
      ]
    },
    {
      "cell_type": "code",
      "execution_count": 2,
      "metadata": {
        "execution": {
          "iopub.execute_input": "2022-04-18T11:58:07.911562Z",
          "iopub.status.busy": "2022-04-18T11:58:07.910544Z",
          "iopub.status.idle": "2022-04-18T11:58:11.223143Z",
          "shell.execute_reply": "2022-04-18T11:58:11.221959Z",
          "shell.execute_reply.started": "2022-04-18T11:58:07.911406Z"
        },
        "id": "BSdwgPVvv7iK",
        "trusted": true
      },
      "outputs": [],
      "source": [
        "import os\n",
        "import copy\n",
        "import cv2\n",
        "import wandb\n",
        "import numpy as np\n",
        "import pandas as pd\n",
        "from tqdm import tqdm\n",
        "from time import time\n",
        "from sklearn import preprocessing\n",
        "from sklearn.metrics import classification_report\n",
        "from sklearn.metrics import f1_score \n",
        "from matplotlib import pyplot as plt\n",
        "\n",
        "import torchvision\n",
        "from torchvision import models, transforms\n",
        "from torchvision.io import read_image\n",
        "\n",
        "import torch\n",
        "import torch.nn.functional as F\n",
        "from torch import nn\n",
        "from torch.utils.data import Dataset"
      ]
    },
    {
      "cell_type": "markdown",
      "metadata": {
        "id": "1C5YIPfwzhxp"
      },
      "source": [
        "# GPU/TPU setup"
      ]
    },
    {
      "cell_type": "code",
      "execution_count": 3,
      "metadata": {
        "id": "vVQzDrNlzfI_"
      },
      "outputs": [
        {
          "name": "stderr",
          "output_type": "stream",
          "text": [
            "Failed to detect the name of this notebook, you can set it manually with the WANDB_NOTEBOOK_NAME environment variable to enable code saving.\n"
          ]
        },
        {
          "name": "stdout",
          "output_type": "stream",
          "text": [
            "cuda:0\n"
          ]
        },
        {
          "name": "stderr",
          "output_type": "stream",
          "text": [
            "\u001b[34m\u001b[1mwandb\u001b[0m: Currently logged in as: \u001b[33mhanzopgp\u001b[0m (use `wandb login --relogin` to force relogin)\n"
          ]
        },
        {
          "data": {
            "text/plain": [
              "True"
            ]
          },
          "execution_count": 3,
          "metadata": {},
          "output_type": "execute_result"
        }
      ],
      "source": [
        "## TPU\n",
        "# !curl https://raw.githubusercontent.com/pytorch/xla/master/contrib/scripts/env-setup.py -o pytorch-xla-env-setup.py\n",
        "# !python pytorch-xla-env-setup.py --apt-packages libomp5 libopenblas-dev\n",
        "# import torch_xla\n",
        "# import torch_xla.core.xla_model as xm\n",
        "# device = xm.xla_device()\n",
        "# torch.set_default_tensor_type('torch.FloatTensor')\n",
        "\n",
        "## GPU\n",
        "device = torch.device(\"cuda:0\" if torch.cuda.is_available() else \"cpu\")\n",
        "print(device)\n",
        "\n",
        "## Weight and biases\n",
        "wandb.login()"
      ]
    },
    {
      "cell_type": "markdown",
      "metadata": {
        "id": "1jRIVkpdv7iM"
      },
      "source": [
        "# Global variables "
      ]
    },
    {
      "cell_type": "code",
      "execution_count": 4,
      "metadata": {
        "execution": {
          "iopub.execute_input": "2022-04-18T11:58:11.225720Z",
          "iopub.status.busy": "2022-04-18T11:58:11.225349Z",
          "iopub.status.idle": "2022-04-18T11:58:11.234233Z",
          "shell.execute_reply": "2022-04-18T11:58:11.233215Z",
          "shell.execute_reply.started": "2022-04-18T11:58:11.225677Z"
        },
        "id": "huwjGSaZv7iN",
        "trusted": true
      },
      "outputs": [],
      "source": [
        "INPUT_SIZE = 400\n",
        "N_CLASS = 4\n",
        "WHERE = \"home\""
      ]
    },
    {
      "cell_type": "code",
      "execution_count": 5,
      "metadata": {
        "id": "e-dNYYCyz8E4"
      },
      "outputs": [],
      "source": [
        "if WHERE==\"colab\":\n",
        "\tPATH_LABELS = \"/content/index_label_bbox.csv\"\n",
        "\tPATH_IMG = \"/content/output/output\"\n",
        "\tPATH_LABELS_VALID = \"/content/index_label_bbox_validation.csv\"\n",
        "\tPATH_IMG_VALID = \"/content/output_validation/output_validation\"\n",
        "\tBATCH_SIZE = 64\n",
        "elif WHERE==\"kaggle\":\n",
        "\tPATH_LABELS = \"../input/boudingboxonlyhanddataset/index_label_bbox.csv\"\n",
        "\tPATH_IMG = \"../input/boudingboxonlyhanddataset/output/output\"\n",
        "\tPATH_LABELS_VALID = \"../input/boudingboxonlyhanddataset/index_label_bbox_validation.csv\"\n",
        "\tPATH_IMG_VALID = \"../input/boudingboxonlyhanddataset/output_validation/output_validation\"\n",
        "\tBATCH_SIZE = 64\n",
        "elif WHERE==\"home\":\n",
        "\tPATH_LABELS = \"../../../data_labels/bounding_box_model/done/index_label_bbox.csv\"\n",
        "\tPATH_IMG = \"../../../data_labels/bounding_box_model/done/output\"\n",
        "\tPATH_LABELS_VALID = \"../../../data_labels/bounding_box_model/done_validation/index_label_bbox_validation.csv\"\n",
        "\tPATH_IMG_VALID = \"../../../data_labels/bounding_box_model/done_validation/output_validation\"\n",
        "\tBATCH_SIZE = 4\n"
      ]
    },
    {
      "cell_type": "markdown",
      "metadata": {
        "execution": {
          "iopub.execute_input": "2022-04-11T16:20:53.566375Z",
          "iopub.status.busy": "2022-04-11T16:20:53.56609Z",
          "iopub.status.idle": "2022-04-11T16:20:53.569977Z",
          "shell.execute_reply": "2022-04-11T16:20:53.569332Z",
          "shell.execute_reply.started": "2022-04-11T16:20:53.566327Z"
        },
        "id": "nSGukie2v7iN"
      },
      "source": [
        "# Data functions"
      ]
    },
    {
      "cell_type": "code",
      "execution_count": 6,
      "metadata": {
        "execution": {
          "iopub.execute_input": "2022-04-18T11:58:11.236305Z",
          "iopub.status.busy": "2022-04-18T11:58:11.236071Z",
          "iopub.status.idle": "2022-04-18T11:58:11.248085Z",
          "shell.execute_reply": "2022-04-18T11:58:11.247309Z",
          "shell.execute_reply.started": "2022-04-18T11:58:11.236276Z"
        },
        "id": "uwmn_pJKv7iO",
        "trusted": true
      },
      "outputs": [],
      "source": [
        "class HandGestureDataset(Dataset):\n",
        "    def __init__(self, annotations_file, img_dir, transform=None):\n",
        "        self.img_labels = pd.read_csv(annotations_file)\n",
        "        self.img_dir = img_dir\n",
        "        self.transform = transform\n",
        "    \n",
        "    def __len__(self):\n",
        "        return len(self.img_labels)\n",
        "\n",
        "    def __getitem__(self, idx):\n",
        "        img_path = os.path.join(self.img_dir, os.listdir(self.img_dir)[idx])\n",
        "        image = read_image(img_path)\n",
        "        path = str(\"output/\"+os.listdir(self.img_dir)[idx]).split(\"/\")[0]\n",
        "        line = self.img_labels[\"index\"] == str(path+\"/\"+os.listdir(self.img_dir)[idx])\n",
        "        x, y, end_x, end_y = self.img_labels.loc[line][\"x\"].item(),\\\n",
        "                               self.img_labels.loc[line][\"y\"].item(),\\\n",
        "                               self.img_labels.loc[line][\"x_end\"].item(),\\\n",
        "                               self.img_labels.loc[line][\"y_end\"].item()\n",
        "        x, y, end_x, end_y = x/INPUT_SIZE, y/INPUT_SIZE, end_x/INPUT_SIZE, end_y/INPUT_SIZE\n",
        "        if self.transform:\n",
        "            image = self.transform(image)\n",
        "#         image = F.normalize(image, dim = 0)\n",
        "        return {'image':image, 'label':[x,y,end_x,end_y]}"
      ]
    },
    {
      "cell_type": "code",
      "execution_count": 7,
      "metadata": {
        "execution": {
          "iopub.execute_input": "2022-04-18T11:58:11.250531Z",
          "iopub.status.busy": "2022-04-18T11:58:11.250098Z",
          "iopub.status.idle": "2022-04-18T11:58:11.263487Z",
          "shell.execute_reply": "2022-04-18T11:58:11.262296Z",
          "shell.execute_reply.started": "2022-04-18T11:58:11.250483Z"
        },
        "id": "VQreQL2ov7iP",
        "trusted": true
      },
      "outputs": [],
      "source": [
        "def prepare_data_vgg(data_type):\n",
        "    ## Parameters fitting vgg/imagenet\n",
        "    mean=[0.485, 0.456, 0.406]\n",
        "    std=[0.229, 0.224, 0.225]\n",
        "\n",
        "    ## pytorch transformer objects\n",
        "    transformVGGTrain=transforms.Compose([\n",
        "            transforms.ToPILImage(),\n",
        "        \n",
        "            ## can try\n",
        "            # transforms.ColorJitter(brightness=0.5, hue=0.5),\n",
        "            # transforms.RandomAdjustSharpness(sharpness_factor=3),\n",
        "            # transforms.RandomAutocontrast(),\n",
        "            # transforms.GaussianBlur(kernel_size=(5, 9), sigma=(0.01, 5)),\n",
        "        \n",
        "            ## don't use or it will ruin bounding box labels\n",
        "#             transforms.RandomRotation(degrees=(-15, 15)),\n",
        "#             transforms.RandomPerspective(distortion_scale=0.4, p=0.2),\n",
        "#             transforms.RandomAffine(degrees=(0, 5), translate=(0, 0.18), scale=(0.7, 1)),\n",
        "        \n",
        "            ## too much\n",
        "            # transforms.RandomSolarize(threshold=192.0),\n",
        "#             transforms.RandomPosterize(bits=2),\n",
        "#             transforms.RandomInvert(),\n",
        "#             transforms.RandomEqualize(),\n",
        "        \n",
        "            transforms.Resize(size=(INPUT_SIZE, INPUT_SIZE)),\n",
        "            transforms.ToTensor(),\n",
        "#             transforms.Normalize(mean, std) ## test with and without\n",
        "        ])\n",
        "    transformVGGValid=transforms.Compose([\n",
        "            transforms.ToPILImage(),\n",
        "            transforms.Resize(size=(INPUT_SIZE, INPUT_SIZE)),\n",
        "            transforms.ToTensor(),\n",
        "#             transforms.Normalize(mean, std) ## test with and without\n",
        "        ])\n",
        "\n",
        "    if data_type == \"custom\":\n",
        "        ## Custom dataset\n",
        "        VGG_dataset_train = HandGestureDataset(PATH_LABELS, PATH_IMG, transformVGGTrain)\n",
        "        VGG_dataset_valid = HandGestureDataset(PATH_LABELS_VALID, PATH_IMG_VALID, transformVGGValid)\n",
        "        VGG_trainloader = torch.utils.data.DataLoader(VGG_dataset_train, batch_size=BATCH_SIZE, pin_memory=True, shuffle=True)\n",
        "        VGG_validloader = torch.utils.data.DataLoader(VGG_dataset_valid, batch_size=BATCH_SIZE, pin_memory=True, shuffle=True)\n",
        "    \n",
        "    return VGG_trainloader, VGG_validloader"
      ]
    },
    {
      "cell_type": "markdown",
      "metadata": {
        "execution": {
          "iopub.execute_input": "2022-02-15T15:49:41.695334Z",
          "iopub.status.busy": "2022-02-15T15:49:41.69497Z",
          "iopub.status.idle": "2022-02-15T15:49:46.639507Z",
          "shell.execute_reply": "2022-02-15T15:49:46.638679Z",
          "shell.execute_reply.started": "2022-02-15T15:49:41.695293Z"
        },
        "id": "I7EYl1LCv7iQ"
      },
      "source": [
        "# Loading data into pytorch dataset and dataloader objects"
      ]
    },
    {
      "cell_type": "code",
      "execution_count": 8,
      "metadata": {
        "execution": {
          "iopub.execute_input": "2022-04-18T11:58:11.265540Z",
          "iopub.status.busy": "2022-04-18T11:58:11.265294Z",
          "iopub.status.idle": "2022-04-18T11:58:11.301628Z",
          "shell.execute_reply": "2022-04-18T11:58:11.300387Z",
          "shell.execute_reply.started": "2022-04-18T11:58:11.265514Z"
        },
        "id": "gSLUtb3rv7iQ",
        "trusted": true
      },
      "outputs": [],
      "source": [
        "VGG_trainloader, VGG_validloader = prepare_data_vgg(\"custom\")"
      ]
    },
    {
      "cell_type": "code",
      "execution_count": 9,
      "metadata": {
        "execution": {
          "iopub.execute_input": "2022-04-18T11:58:11.303751Z",
          "iopub.status.busy": "2022-04-18T11:58:11.303355Z",
          "iopub.status.idle": "2022-04-18T11:58:11.309138Z",
          "shell.execute_reply": "2022-04-18T11:58:11.308066Z",
          "shell.execute_reply.started": "2022-04-18T11:58:11.303704Z"
        },
        "id": "Dxv-Unzwv7iR",
        "trusted": true
      },
      "outputs": [],
      "source": [
        "# for img in VGG_trainloader:\n",
        "#     for i in img[\"image\"][:1]:\n",
        "#         i = i.permute(1,2,0)\n",
        "#         plt.imshow(np.array(i))\n",
        "#         plt.show()"
      ]
    },
    {
      "cell_type": "markdown",
      "metadata": {
        "id": "0yNIY1tPv7iR"
      },
      "source": [
        "# Model functions"
      ]
    },
    {
      "cell_type": "code",
      "execution_count": 10,
      "metadata": {
        "_kg_hide-input": true,
        "execution": {
          "iopub.execute_input": "2022-04-18T11:58:11.311833Z",
          "iopub.status.busy": "2022-04-18T11:58:11.311177Z",
          "iopub.status.idle": "2022-04-18T11:58:11.337631Z",
          "shell.execute_reply": "2022-04-18T11:58:11.336657Z",
          "shell.execute_reply.started": "2022-04-18T11:58:11.311779Z"
        },
        "id": "TmOsJNGTv7iS",
        "trusted": true
      },
      "outputs": [],
      "source": [
        "def train(model, epochs, train_loader, valid_loader, learning_rate, patience, feature_extract=False):\n",
        "\t## Early stopping variables\n",
        "\tes = EarlyStopping(patience=patience)\n",
        "\tterminate_training = False\n",
        "\tbest_model_wts = copy.deepcopy(model.state_dict())\n",
        "\tbest_loss = np.inf\n",
        "\tmodel = model.to(device)\n",
        "\t## Training only the parameters where we require gradient since we are fine-tuning\n",
        "\tparams_to_update = model.parameters()\n",
        "\tprint(\"params to learn:\")\n",
        "\tif feature_extract:\n",
        "\t\tparams_to_update = []\n",
        "\t\tfor name,param in model.named_parameters():\n",
        "\t\t\tif param.requires_grad == True:\n",
        "\t\t\t\tparams_to_update.append(param)\n",
        "\t\t\t\tprint(\"\\t\", name)\n",
        "\telse:\n",
        "\t\tfor name,param in model.named_parameters():\n",
        "\t\t\tif param.requires_grad == True:\n",
        "\t\t\t\tprint(\"\\t\", name)\n",
        "                \n",
        "\t## Setting up our optimizer\n",
        "\toptim = torch.optim.Adam(params_to_update, lr=learning_rate)\n",
        "\n",
        "\t## Setting up our loss function\n",
        "\tloss = nn.MSELoss()\n",
        "    \n",
        "\t## Running the train loop\n",
        "\tprint(f\"running {model.name}\")\n",
        "\tfor epoch in range(epochs):\n",
        "\t\tcumloss, count = 0, 0\n",
        "\t\tmodel.train()\n",
        "\t\tfor item in train_loader:\n",
        "\t\t\toptim.zero_grad()\n",
        "\t\t\tx, y = item[\"image\"], item[\"label\"]\n",
        "\t\t\tx = item[\"image\"].to(device)\n",
        "\t\t\t\n",
        "\t\t\tres = []\n",
        "\t\t\tfor e in y:\n",
        "\t\t\t\tres.append(np.array(e))\n",
        "\t\t\tres = np.array(res).T\n",
        "\t\t\ty = torch.as_tensor(res)\n",
        "\t\t\ty = y.to(torch.float32)\n",
        "\t\t\ty = y.to(device)\n",
        "\t\t\t\n",
        "\t\t\tyhat = model(x)\n",
        "\n",
        "\t\t\tl = loss(yhat, y)\n",
        "\t\t\tl.backward()\n",
        "\t\t\t# xm.optimizer_step(optim, barrier=True)\n",
        "\t\t\toptim.step()\n",
        "\t\t\tcumloss += l * len(x)\n",
        "\t\t\tcount += len(x)\n",
        "\t\tprint(\"epoch :\", epoch, end=\"\")\n",
        "\t\tloss_ = cumloss.cpu().item()/count\n",
        "\t\twandb.log({'train_loss': loss_})\n",
        "\t\tprint(\", train_loss: \", loss_, end=\"\")\n",
        "\t\tif epoch % 1 == 0:\n",
        "\t\t\tmodel.eval()\n",
        "\t\t\twith torch.no_grad():\n",
        "\t\t\t\tvalid_cumloss, count = 0, 0\n",
        "\t\t\t\tfor x,y in valid_loader:\n",
        "\t\t\t\t\tx, y = item[\"image\"], item[\"label\"]\n",
        "\t\t\t\t\tx = item[\"image\"].to(device)\n",
        "\t\t\t\t\tres = []\n",
        "\t\t\t\t\tfor e in y:\n",
        "\t\t\t\t\t\tres.append(np.array(e))\n",
        "\t\t\t\t\tres = np.array(res).T\n",
        "\t\t\t\t\ty = torch.as_tensor(res)\n",
        "\t\t\t\t\ty = y.to(torch.float32)\n",
        "\t\t\t\t\ty = y.to(device)\n",
        "\t\t\t\t\tyhat = model(x)\n",
        "\t\t\t\t\tvalid_cumloss += loss(yhat,y) * len(x)\n",
        "\t\t\t\t\tcount += len(x)\n",
        "\t\t\t\tvalid_loss_ = valid_cumloss.cpu().item()/count\n",
        "\t\t\t\twandb.log({'valid_loss': valid_loss_})\n",
        "\t\t\t\tprint(\", valid_loss: \", valid_loss_)\n",
        "\t\t\t\t## Early stopping\n",
        "\t\t\t\tif valid_cumloss/count < best_loss:\n",
        "\t\t\t\t\tbest_loss = valid_cumloss/count\n",
        "\t\t\t\t\tbest_model_wts = copy.deepcopy(model.state_dict())\n",
        "\t\t\t\tif es.step(valid_cumloss.cpu().item()/count):\n",
        "\t\t\t\t\tterminate_training = True\n",
        "\t\t\t\t\tbreak\n",
        "\t\tif terminate_training:\n",
        "\t\t\tbreak\n",
        "\tprint('Best val loss: {:4f}'.format(best_loss))\n",
        "\t## Returns the best model\n",
        "\tmodel.load_state_dict(best_model_wts)\n",
        "\treturn model\n",
        "\n",
        "def set_parameter_requires_grad(model, feature_extract):\n",
        "\tif feature_extract:\n",
        "\t\tfor name,p in model.named_parameters():\n",
        "\t\t\tif \"features\" in name:\n",
        "\t\t\t\tp.requires_grad = False    \n",
        "\t\t\telse:\n",
        "\t\t\t\tp.requires_grad = True  "
      ]
    },
    {
      "cell_type": "markdown",
      "metadata": {
        "execution": {
          "iopub.execute_input": "2022-04-11T16:22:20.614896Z",
          "iopub.status.busy": "2022-04-11T16:22:20.614632Z",
          "iopub.status.idle": "2022-04-11T16:22:20.618197Z",
          "shell.execute_reply": "2022-04-11T16:22:20.617386Z",
          "shell.execute_reply.started": "2022-04-11T16:22:20.614868Z"
        },
        "id": "LdrT-bVhv7iS"
      },
      "source": [
        "# Loading the model and modifying the classifier part\n",
        "### Maybe we could try to modify only the last classifier layer ?"
      ]
    },
    {
      "cell_type": "code",
      "execution_count": 11,
      "metadata": {
        "colab": {
          "base_uri": "https://localhost:8080/"
        },
        "execution": {
          "iopub.execute_input": "2022-04-18T11:58:11.339763Z",
          "iopub.status.busy": "2022-04-18T11:58:11.339400Z",
          "iopub.status.idle": "2022-04-18T11:58:25.947622Z",
          "shell.execute_reply": "2022-04-18T11:58:25.946904Z",
          "shell.execute_reply.started": "2022-04-18T11:58:11.339717Z"
        },
        "id": "X_bEUNDLv7iT",
        "outputId": "979d2b9c-aeb1-4d0f-cb42-5f695f0d8892",
        "trusted": true
      },
      "outputs": [
        {
          "name": "stdout",
          "output_type": "stream",
          "text": [
            "VGG(\n",
            "  (features): Sequential(\n",
            "    (0): Conv2d(3, 64, kernel_size=(3, 3), stride=(1, 1), padding=(1, 1))\n",
            "    (1): ReLU(inplace=True)\n",
            "    (2): Conv2d(64, 64, kernel_size=(3, 3), stride=(1, 1), padding=(1, 1))\n",
            "    (3): ReLU(inplace=True)\n",
            "    (4): MaxPool2d(kernel_size=2, stride=2, padding=0, dilation=1, ceil_mode=False)\n",
            "    (5): Conv2d(64, 128, kernel_size=(3, 3), stride=(1, 1), padding=(1, 1))\n",
            "    (6): ReLU(inplace=True)\n",
            "    (7): Conv2d(128, 128, kernel_size=(3, 3), stride=(1, 1), padding=(1, 1))\n",
            "    (8): ReLU(inplace=True)\n",
            "    (9): MaxPool2d(kernel_size=2, stride=2, padding=0, dilation=1, ceil_mode=False)\n",
            "    (10): Conv2d(128, 256, kernel_size=(3, 3), stride=(1, 1), padding=(1, 1))\n",
            "    (11): ReLU(inplace=True)\n",
            "    (12): Conv2d(256, 256, kernel_size=(3, 3), stride=(1, 1), padding=(1, 1))\n",
            "    (13): ReLU(inplace=True)\n",
            "    (14): Conv2d(256, 256, kernel_size=(3, 3), stride=(1, 1), padding=(1, 1))\n",
            "    (15): ReLU(inplace=True)\n",
            "    (16): MaxPool2d(kernel_size=2, stride=2, padding=0, dilation=1, ceil_mode=False)\n",
            "    (17): Conv2d(256, 512, kernel_size=(3, 3), stride=(1, 1), padding=(1, 1))\n",
            "    (18): ReLU(inplace=True)\n",
            "    (19): Conv2d(512, 512, kernel_size=(3, 3), stride=(1, 1), padding=(1, 1))\n",
            "    (20): ReLU(inplace=True)\n",
            "    (21): Conv2d(512, 512, kernel_size=(3, 3), stride=(1, 1), padding=(1, 1))\n",
            "    (22): ReLU(inplace=True)\n",
            "    (23): MaxPool2d(kernel_size=2, stride=2, padding=0, dilation=1, ceil_mode=False)\n",
            "    (24): Conv2d(512, 512, kernel_size=(3, 3), stride=(1, 1), padding=(1, 1))\n",
            "    (25): ReLU(inplace=True)\n",
            "    (26): Conv2d(512, 512, kernel_size=(3, 3), stride=(1, 1), padding=(1, 1))\n",
            "    (27): ReLU(inplace=True)\n",
            "    (28): Conv2d(512, 512, kernel_size=(3, 3), stride=(1, 1), padding=(1, 1))\n",
            "    (29): ReLU(inplace=True)\n",
            "    (30): MaxPool2d(kernel_size=2, stride=2, padding=0, dilation=1, ceil_mode=False)\n",
            "  )\n",
            "  (avgpool): AdaptiveAvgPool2d(output_size=(7, 7))\n",
            "  (classifier): Sequential(\n",
            "    (0): Linear(in_features=25088, out_features=4096, bias=True)\n",
            "    (1): ReLU()\n",
            "    (2): Linear(in_features=4096, out_features=1024, bias=True)\n",
            "    (3): ReLU()\n",
            "    (4): Linear(in_features=1024, out_features=256, bias=True)\n",
            "    (5): ReLU()\n",
            "    (6): Linear(in_features=256, out_features=4, bias=True)\n",
            "    (7): Sigmoid()\n",
            "  )\n",
            ")\n"
          ]
        }
      ],
      "source": [
        "## Loading vgg16 model pretrained on imagenet\n",
        "vgg = models.vgg16(pretrained=True)\n",
        "\n",
        "vgg.classifier = nn.Sequential(nn.Linear(25088, 4096), \n",
        "                               nn.ReLU(), \n",
        "                              #  nn.Dropout(0.5),        \n",
        "                               nn.Linear(4096, 1024), \n",
        "                               nn.ReLU(), \n",
        "#                                nn.Dropout(0.5),        \n",
        "                               nn.Linear(1024, 256),\n",
        "                               nn.ReLU(), \n",
        "#                                nn.Dropout(0.5),        \n",
        "                               nn.Linear(256, N_CLASS),\n",
        "                               nn.Sigmoid())\n",
        "\n",
        "print(vgg.eval())\n",
        "\n",
        "## Sets all the requires grad of the classifier layers to True\n",
        "set_parameter_requires_grad(vgg, True)"
      ]
    },
    {
      "cell_type": "markdown",
      "metadata": {
        "id": "oiqed-DRv7iT"
      },
      "source": [
        "# Implementing early stopping"
      ]
    },
    {
      "cell_type": "code",
      "execution_count": 12,
      "metadata": {
        "execution": {
          "iopub.execute_input": "2022-04-18T11:58:25.949868Z",
          "iopub.status.busy": "2022-04-18T11:58:25.949095Z",
          "iopub.status.idle": "2022-04-18T11:58:25.963637Z",
          "shell.execute_reply": "2022-04-18T11:58:25.962806Z",
          "shell.execute_reply.started": "2022-04-18T11:58:25.949814Z"
        },
        "id": "N4pImz6Av7iU",
        "trusted": true
      },
      "outputs": [],
      "source": [
        "class EarlyStopping(object):\n",
        "    def __init__(self, mode='min', min_delta=0, patience=10, percentage=False):\n",
        "        self.mode = mode\n",
        "        self.min_delta = min_delta\n",
        "        self.patience = patience\n",
        "        self.best = None\n",
        "        self.num_bad_epochs = 0\n",
        "        self.is_better = None\n",
        "        self._init_is_better(mode, min_delta, percentage)\n",
        "        if patience == 0:\n",
        "            self.is_better = lambda a, b: True\n",
        "            self.step = lambda a: False\n",
        "\n",
        "    def step(self, metrics):\n",
        "        if self.best is None:\n",
        "            self.best = metrics\n",
        "            return False\n",
        "        if np.isnan(metrics):\n",
        "            return True\n",
        "        if self.is_better(metrics, self.best):\n",
        "            self.num_bad_epochs = 0\n",
        "            self.best = metrics\n",
        "        else:\n",
        "            self.num_bad_epochs += 1\n",
        "        if self.num_bad_epochs >= self.patience:\n",
        "            return True\n",
        "        return False\n",
        "\n",
        "    def _init_is_better(self, mode, min_delta, percentage):\n",
        "        if mode not in {'min', 'max'}:\n",
        "            raise ValueError('mode ' + mode + ' is unknown!')\n",
        "        if not percentage:\n",
        "            if mode == 'min':\n",
        "                self.is_better = lambda a, best: a < best - min_delta\n",
        "            if mode == 'max':\n",
        "                self.is_better = lambda a, best: a > best + min_delta\n",
        "        else:\n",
        "            if mode == 'min':\n",
        "                self.is_better = lambda a, best: a < best - (\n",
        "                            best * min_delta / 100)\n",
        "            if mode == 'max':\n",
        "                self.is_better = lambda a, best: a > best + (\n",
        "                            best * min_delta / 100)"
      ]
    },
    {
      "cell_type": "markdown",
      "metadata": {
        "id": "tRpWlPvEv7iU"
      },
      "source": [
        "# Training only the modified parts of the classifier"
      ]
    },
    {
      "cell_type": "code",
      "execution_count": 13,
      "metadata": {},
      "outputs": [
        {
          "data": {
            "text/html": [
              "Changes to your `wandb` environment variables will be ignored because your `wandb` session has already started. For more information on how to modify your settings with `wandb.init()` arguments, please refer to <a href=\"https://wandb.me/wandb-init\" target=\"_blank\">the W&B docs</a>."
            ],
            "text/plain": [
              "<IPython.core.display.HTML object>"
            ]
          },
          "metadata": {},
          "output_type": "display_data"
        },
        {
          "data": {
            "text/html": [
              "Tracking run with wandb version 0.12.14"
            ],
            "text/plain": [
              "<IPython.core.display.HTML object>"
            ]
          },
          "metadata": {},
          "output_type": "display_data"
        },
        {
          "data": {
            "text/html": [
              "Run data is saved locally in <code>c:\\Users\\karna\\Desktop\\Projects\\PythonProject\\JetsonAutonomousDriving\\src\\main\\only_bounding_box_model\\wandb\\run-20220419_140653-1vnp0h6m</code>"
            ],
            "text/plain": [
              "<IPython.core.display.HTML object>"
            ]
          },
          "metadata": {},
          "output_type": "display_data"
        },
        {
          "data": {
            "text/html": [
              "Syncing run <strong><a href=\"https://wandb.ai/hanzopgp/jetson-autonomous-driving/runs/1vnp0h6m\" target=\"_blank\">jumping-bee-8</a></strong> to <a href=\"https://wandb.ai/hanzopgp/jetson-autonomous-driving\" target=\"_blank\">Weights & Biases</a> (<a href=\"https://wandb.me/run\" target=\"_blank\">docs</a>)<br/>"
            ],
            "text/plain": [
              "<IPython.core.display.HTML object>"
            ]
          },
          "metadata": {},
          "output_type": "display_data"
        },
        {
          "data": {
            "text/html": [
              "<button onClick=\"this.nextSibling.style.display='block';this.style.display='none';\">Display W&B run</button><iframe src=\"https://wandb.ai/hanzopgp/jetson-autonomous-driving/runs/1vnp0h6m?jupyter=true\" style=\"border:none;width:100%;height:420px;display:none;\"></iframe>"
            ],
            "text/plain": [
              "<wandb.sdk.wandb_run.Run at 0x28af5df7c70>"
            ]
          },
          "execution_count": 13,
          "metadata": {},
          "output_type": "execute_result"
        }
      ],
      "source": [
        "os.environ['WANDB_NOTEBOOK_NAME'] = '4096_5e-6'\n",
        "wandb.init(project=\"jetson-autonomous-driving\")"
      ]
    },
    {
      "cell_type": "code",
      "execution_count": 14,
      "metadata": {
        "colab": {
          "base_uri": "https://localhost:8080/"
        },
        "execution": {
          "iopub.execute_input": "2022-04-18T11:58:25.966171Z",
          "iopub.status.busy": "2022-04-18T11:58:25.965782Z",
          "iopub.status.idle": "2022-04-18T12:39:06.745835Z",
          "shell.execute_reply": "2022-04-18T12:39:06.743472Z",
          "shell.execute_reply.started": "2022-04-18T11:58:25.966134Z"
        },
        "id": "JXlDQQfhv7iV",
        "outputId": "104d8c3c-b1f4-4f4c-80f2-98fed954fe48",
        "trusted": true
      },
      "outputs": [
        {
          "name": "stdout",
          "output_type": "stream",
          "text": [
            "536\n",
            "151\n",
            "params to learn:\n",
            "\t classifier.0.weight\n",
            "\t classifier.0.bias\n",
            "\t classifier.2.weight\n",
            "\t classifier.2.bias\n",
            "\t classifier.4.weight\n",
            "\t classifier.4.bias\n",
            "\t classifier.6.weight\n",
            "\t classifier.6.bias\n",
            "running VGG\n"
          ]
        }
      ],
      "source": [
        "print(len(VGG_trainloader))\n",
        "print(len(VGG_validloader))\n",
        "\n",
        "## Fine-tuning the model on our data\n",
        "vgg.name = \"VGG\"\n",
        "\n",
        "best_model = train(model=vgg, \n",
        "                   epochs=1000, \n",
        "                   train_loader=VGG_trainloader, \n",
        "                   valid_loader=VGG_validloader, \n",
        "                   learning_rate=5e-6, ## 3e-4 learning rate for Adam optimizer\n",
        "                   patience=20) ## metric for earlystopping : val_loss "
      ]
    },
    {
      "cell_type": "markdown",
      "metadata": {
        "id": "9_RQMAV0v7iV"
      },
      "source": [
        "# Checking predictions"
      ]
    },
    {
      "cell_type": "markdown",
      "metadata": {
        "id": "jnIpVnKlv7iV"
      },
      "source": []
    },
    {
      "cell_type": "code",
      "execution_count": null,
      "metadata": {
        "execution": {
          "iopub.status.busy": "2022-04-18T12:39:06.747865Z",
          "iopub.status.idle": "2022-04-18T12:39:06.748403Z",
          "shell.execute_reply": "2022-04-18T12:39:06.748185Z",
          "shell.execute_reply.started": "2022-04-18T12:39:06.748159Z"
        },
        "id": "3DW15kN_v7iV",
        "trusted": true
      },
      "outputs": [
        {
          "ename": "",
          "evalue": "",
          "output_type": "error",
          "traceback": [
            "\u001b[1;31mRunning cells with 'Python 3.9.12 64-bit (windows store)' requires ipykernel package.\n",
            "Run the following command to install 'ipykernel' into the Python environment. \n",
            "Command: 'C:/Users/karna/AppData/Local/Microsoft/WindowsApps/python3.9.exe -m pip install ipykernel -U --user --force-reinstall'"
          ]
        }
      ],
      "source": [
        "def draw_predictions(image, preds):\n",
        "    startX, startY, endX, endY = preds\n",
        "    # scale the predicted bounding box coordinates based on the image\n",
        "    # dimensions    \n",
        "    startX = int(startX * INPUT_SIZE)\n",
        "    startY = int(startY * INPUT_SIZE)\n",
        "    endX = int(endX * INPUT_SIZE)\n",
        "    endY = int(endY * INPUT_SIZE)\n",
        "#     print(startX, startY, endX, endY)\n",
        "    # draw the predicted bounding box on the image\n",
        "    image = image.numpy().copy()\n",
        "    cv2.rectangle(image, (startX, startY), (endX, endY), (0, 255, 0), 2)\n",
        "    # show the output image\n",
        "    plt.imshow(image)\n",
        "    plt.show()"
      ]
    },
    {
      "cell_type": "code",
      "execution_count": null,
      "metadata": {
        "execution": {
          "iopub.status.busy": "2022-04-18T12:39:06.750237Z",
          "iopub.status.idle": "2022-04-18T12:39:06.750629Z",
          "shell.execute_reply": "2022-04-18T12:39:06.750455Z",
          "shell.execute_reply.started": "2022-04-18T12:39:06.750430Z"
        },
        "id": "FDqVuSEIv7iW",
        "trusted": true
      },
      "outputs": [
        {
          "ename": "",
          "evalue": "",
          "output_type": "error",
          "traceback": [
            "\u001b[1;31mRunning cells with 'Python 3.9.12 64-bit (windows store)' requires ipykernel package.\n",
            "Run the following command to install 'ipykernel' into the Python environment. \n",
            "Command: 'C:/Users/karna/AppData/Local/Microsoft/WindowsApps/python3.9.exe -m pip install ipykernel -U --user --force-reinstall'"
          ]
        }
      ],
      "source": [
        "with torch.no_grad():\n",
        "    for item in VGG_validloader:\n",
        "        x, y = item[\"image\"], item[\"label\"]\n",
        "        base_img = item[\"image\"]\n",
        "        x = item[\"image\"].to(device)\n",
        "        res = []\n",
        "        for e in y:\n",
        "            res.append(np.array(e))\n",
        "        res = np.array(res).T\n",
        "        y = torch.as_tensor(res)\n",
        "        y = y.to(torch.float32)\n",
        "        y = y.to(device)\n",
        "        yhat = best_model(x)\n",
        "        for i in range(8):\n",
        "            draw_predictions(base_img[i].permute(1,2,0), yhat.cpu()[i])"
      ]
    },
    {
      "cell_type": "markdown",
      "metadata": {
        "id": "yOuDvy_7v7iW"
      },
      "source": [
        "# Saving the model in .pth and .onnx extension"
      ]
    },
    {
      "cell_type": "code",
      "execution_count": null,
      "metadata": {
        "execution": {
          "iopub.status.busy": "2022-04-18T12:39:06.752154Z",
          "iopub.status.idle": "2022-04-18T12:39:06.752540Z",
          "shell.execute_reply": "2022-04-18T12:39:06.752374Z",
          "shell.execute_reply.started": "2022-04-18T12:39:06.752351Z"
        },
        "id": "69YZ-O8Pv7iW",
        "trusted": true
      },
      "outputs": [
        {
          "ename": "",
          "evalue": "",
          "output_type": "error",
          "traceback": [
            "\u001b[1;31mRunning cells with 'Python 3.9.12 64-bit (windows store)' requires ipykernel package.\n",
            "Run the following command to install 'ipykernel' into the Python environment. \n",
            "Command: 'C:/Users/karna/AppData/Local/Microsoft/WindowsApps/python3.9.exe -m pip install ipykernel -U --user --force-reinstall'"
          ]
        }
      ],
      "source": [
        "PATH = \"./\"\n",
        "torch.save(best_model.state_dict(), os.path.join(PATH,\"boundingbox_vgg_last.pth\"))\n",
        "# from google.colab import files\n",
        "# files.download(os.path.join(PATH,\"boundingbox_vgg_last.pth\"))"
      ]
    },
    {
      "cell_type": "code",
      "execution_count": null,
      "metadata": {
        "execution": {
          "iopub.status.busy": "2022-04-18T12:39:06.753863Z",
          "iopub.status.idle": "2022-04-18T12:39:06.754276Z",
          "shell.execute_reply": "2022-04-18T12:39:06.754087Z",
          "shell.execute_reply.started": "2022-04-18T12:39:06.754066Z"
        },
        "id": "k3zZ0xCAv7iX",
        "trusted": true
      },
      "outputs": [
        {
          "ename": "",
          "evalue": "",
          "output_type": "error",
          "traceback": [
            "\u001b[1;31mRunning cells with 'Python 3.9.12 64-bit (windows store)' requires ipykernel package.\n",
            "Run the following command to install 'ipykernel' into the Python environment. \n",
            "Command: 'C:/Users/karna/AppData/Local/Microsoft/WindowsApps/python3.9.exe -m pip install ipykernel -U --user --force-reinstall'"
          ]
        }
      ],
      "source": [
        "# del vgg\n",
        "# del best_model"
      ]
    },
    {
      "cell_type": "code",
      "execution_count": null,
      "metadata": {
        "execution": {
          "iopub.status.busy": "2022-04-18T12:39:06.755923Z",
          "iopub.status.idle": "2022-04-18T12:39:06.756323Z",
          "shell.execute_reply": "2022-04-18T12:39:06.756152Z",
          "shell.execute_reply.started": "2022-04-18T12:39:06.756129Z"
        },
        "id": "fhRGHT_zv7iX",
        "trusted": true
      },
      "outputs": [
        {
          "ename": "",
          "evalue": "",
          "output_type": "error",
          "traceback": [
            "\u001b[1;31mRunning cells with 'Python 3.9.12 64-bit (windows store)' requires ipykernel package.\n",
            "Run the following command to install 'ipykernel' into the Python environment. \n",
            "Command: 'C:/Users/karna/AppData/Local/Microsoft/WindowsApps/python3.9.exe -m pip install ipykernel -U --user --force-reinstall'"
          ]
        }
      ],
      "source": [
        "# model = models.vgg16(pretrained=True)\n",
        "# model.classifier[0] = nn.Linear(25088, 8192)\n",
        "# model.classifier[3] = nn.Linear(8192, 1024)\n",
        "# model.classifier[6] = nn.Linear(1024, N_CLASS)\n",
        "# model.load_state_dict(torch.load(os.path.join(PATH,\"vgg.pth\"), map_location='cpu'))\n",
        "# model.eval() \n",
        "\n",
        "# dummy_input = torch.randn(BATCH_SIZE, 3, INPUT_SIZE, INPUT_SIZE)  \n",
        "# torch.onnx.export(model,   \n",
        "#                   dummy_input, \n",
        "#                   \"vgg.onnx\",\n",
        "#                   export_params=True,\n",
        "#                   do_constant_folding=True, \n",
        "#                   input_names = ['modelInput'],\n",
        "#                   output_names = ['modelOutput'])"
      ]
    },
    {
      "cell_type": "code",
      "execution_count": null,
      "metadata": {
        "id": "3nyDFGuUv7iX"
      },
      "outputs": [
        {
          "ename": "",
          "evalue": "",
          "output_type": "error",
          "traceback": [
            "\u001b[1;31mRunning cells with 'Python 3.9.12 64-bit (windows store)' requires ipykernel package.\n",
            "Run the following command to install 'ipykernel' into the Python environment. \n",
            "Command: 'C:/Users/karna/AppData/Local/Microsoft/WindowsApps/python3.9.exe -m pip install ipykernel -U --user --force-reinstall'"
          ]
        }
      ],
      "source": []
    },
    {
      "cell_type": "code",
      "execution_count": null,
      "metadata": {
        "id": "DLpVF-Vov7iX"
      },
      "outputs": [
        {
          "ename": "",
          "evalue": "",
          "output_type": "error",
          "traceback": [
            "\u001b[1;31mRunning cells with 'Python 3.9.12 64-bit (windows store)' requires ipykernel package.\n",
            "Run the following command to install 'ipykernel' into the Python environment. \n",
            "Command: 'C:/Users/karna/AppData/Local/Microsoft/WindowsApps/python3.9.exe -m pip install ipykernel -U --user --force-reinstall'"
          ]
        }
      ],
      "source": []
    }
  ],
  "metadata": {
    "accelerator": "GPU",
    "colab": {
      "collapsed_sections": [],
      "name": "vgg_bounding_box.ipynb",
      "provenance": []
    },
    "kernelspec": {
      "display_name": "Python 3",
      "language": "python",
      "name": "python3"
    },
    "language_info": {
      "codemirror_mode": {
        "name": "ipython",
        "version": 3
      },
      "file_extension": ".py",
      "mimetype": "text/x-python",
      "name": "python",
      "nbconvert_exporter": "python",
      "pygments_lexer": "ipython3",
      "version": "3.9.12"
    }
  },
  "nbformat": 4,
  "nbformat_minor": 0
}
