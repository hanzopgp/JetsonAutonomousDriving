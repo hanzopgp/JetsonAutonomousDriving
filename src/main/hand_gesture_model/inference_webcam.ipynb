{
 "cells": [
  {
   "cell_type": "code",
   "execution_count": 7,
   "metadata": {},
   "outputs": [],
   "source": [
    "import tensorflow as tf\n",
    "import cv2\n",
    "import time\n",
    "import numpy as np"
   ]
  },
  {
   "cell_type": "code",
   "execution_count": 2,
   "metadata": {},
   "outputs": [],
   "source": [
    "LABELS = ['FINGER', 'FIST', 'LEFT', 'PALM', 'RIGHT']\n",
    "INPUT_SIZE = 224"
   ]
  },
  {
   "cell_type": "code",
   "execution_count": 5,
   "metadata": {},
   "outputs": [],
   "source": [
    "model = tf.keras.models.load_model(\"models/kaggle_model.h5\", custom_objects=None, compile=True, options=None)"
   ]
  },
  {
   "cell_type": "code",
   "execution_count": 10,
   "metadata": {},
   "outputs": [
    {
     "name": "stdout",
     "output_type": "stream",
     "text": [
      "FISTTR\r"
     ]
    }
   ],
   "source": [
    "cv2.destroyAllWindows()\n",
    "before = time.time()\n",
    "vid = cv2.VideoCapture(1)\n",
    "while True:\n",
    "\n",
    "\tret, frame = vid.read()\n",
    "\tcv2.imshow('frame', frame)\n",
    "\tif cv2.waitKey(1) & 0xFF == ord('q'):\n",
    "\t\tbreak\n",
    "\t# img = cv2.cvtColor(frame, cv2.COLOR_BGR2GRAY)\n",
    "\timg = cv2.resize(img, (INPUT_SIZE, INPUT_SIZE))\n",
    "\timg = img.reshape(1, INPUT_SIZE, INPUT_SIZE, 1)\n",
    "\n",
    "\tafter = int(time.time() - before)\n",
    "\tprint(LABELS[np.argmax(model.predict(img))], end='\\r')\n",
    "\n",
    "vid.release()\n",
    "cv2.destroyAllWindows()"
   ]
  },
  {
   "cell_type": "code",
   "execution_count": null,
   "metadata": {},
   "outputs": [],
   "source": []
  }
 ],
 "metadata": {
  "interpreter": {
   "hash": "d9a4ba7a39ad5692da286452aea182a2f639774b342ad6371c4f013f8b98072d"
  },
  "kernelspec": {
   "display_name": "Python 3.10.4 64-bit",
   "language": "python",
   "name": "python3"
  },
  "language_info": {
   "codemirror_mode": {
    "name": "ipython",
    "version": 3
   },
   "file_extension": ".py",
   "mimetype": "text/x-python",
   "name": "python",
   "nbconvert_exporter": "python",
   "pygments_lexer": "ipython3",
   "version": "3.10.4"
  },
  "orig_nbformat": 4
 },
 "nbformat": 4,
 "nbformat_minor": 2
}
