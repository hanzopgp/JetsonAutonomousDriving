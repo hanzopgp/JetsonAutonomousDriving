{
 "cells": [
  {
   "cell_type": "code",
   "execution_count": null,
   "id": "79efffe3-94d0-46aa-9119-3e96bd6a82f3",
   "metadata": {},
   "outputs": [
    {
     "ename": "",
     "evalue": "",
     "output_type": "error",
     "traceback": [
      "\u001b[1;31mThe kernel failed to start due to an error with the Win32api module. Consider (re) installing this module.\n",
      "Click <a href='https://aka.ms/kernelFailuresWin32Api'>here</a> for more info."
     ]
    }
   ],
   "source": [
    "from PIL import Image\n",
    "import glob\n",
    "import numpy as np\n",
    "from matplotlib import pyplot as plt\n",
    "\n",
    "# from tensorflow import keras\n",
    "import tensorflow as tf\n",
    "\n",
    "\n",
    "# from keras.preprocessing.image import loaµd_img\n",
    "# from keras.keras.preprocessing.image import img_to_array\n",
    "# from keras.keras.preprocessing.image import ImageDataGenerator"
   ]
  },
  {
   "cell_type": "code",
   "execution_count": null,
   "id": "61af42bf-c15f-4460-ac5b-25caa5061307",
   "metadata": {},
   "outputs": [],
   "source": [
    "# source : https://machinelearningmastery.com/how-to-configure-image-data-augmentation-when-training-deep-learning-neural-networks/"
   ]
  },
  {
   "cell_type": "code",
   "execution_count": null,
   "id": "0553db82-43ab-4a0a-90f5-d1160999247c",
   "metadata": {},
   "outputs": [],
   "source": [
    "def get_images():\n",
    "    image_list = []\n",
    "    for filename in glob.glob('labelling_img/*.jpg'): \n",
    "        im=Image.open(filename)\n",
    "        image_list.append(np.array(im))\n",
    "    return image_list"
   ]
  },
  {
   "cell_type": "code",
   "execution_count": null,
   "id": "89e372b0-12b6-4ba0-9888-a3ee4e46a61d",
   "metadata": {},
   "outputs": [],
   "source": [
    "X = get_images()"
   ]
  },
  {
   "cell_type": "code",
   "execution_count": null,
   "id": "3d529ec7-c9df-42da-b523-3381409acf3b",
   "metadata": {},
   "outputs": [],
   "source": [
    "plt.imshow(X[80])\n",
    "print(len(X))"
   ]
  },
  {
   "cell_type": "code",
   "execution_count": null,
   "id": "65d79f60-9c2b-4cf0-9f3c-6e5dcb39de85",
   "metadata": {},
   "outputs": [],
   "source": [
    "datagen = ImageDataGenerator()\n",
    "it = datagen.flow(X, y)"
   ]
  },
  {
   "cell_type": "code",
   "execution_count": null,
   "id": "3bfcb88c-b021-406c-9c96-36a5c6e69579",
   "metadata": {},
   "outputs": [],
   "source": []
  }
 ],
 "metadata": {
  "interpreter": {
   "hash": "9c71e5a29faba59a29ba17f48db3cf7ffa25e87d184daa103506921c67f220a6"
  },
  "kernelspec": {
   "display_name": "Python [conda env:root] *",
   "language": "python",
   "name": "python3"
  },
  "language_info": {
   "codemirror_mode": {
    "name": "ipython",
    "version": 3
   },
   "file_extension": ".py",
   "mimetype": "text/x-python",
   "name": "python",
   "nbconvert_exporter": "python",
   "pygments_lexer": "ipython3",
   "version": "3.7.9"
  }
 },
 "nbformat": 4,
 "nbformat_minor": 5
}
