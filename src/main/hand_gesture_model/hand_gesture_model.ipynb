{
 "cells": [
  {
   "cell_type": "markdown",
   "id": "f76b207a-be69-4b92-ac8a-e0b5e8d0c3f4",
   "metadata": {},
   "source": [
    "# Imports"
   ]
  },
  {
   "cell_type": "code",
   "execution_count": 1,
   "id": "a5474f8b-36df-4041-90ca-b32059d1d7b9",
   "metadata": {},
   "outputs": [],
   "source": [
    "%matplotlib inline\n",
    "\n",
    "import time\n",
    "import os\n",
    "import numpy as np\n",
    "import matplotlib.pyplot as plt\n",
    "import cv2\n",
    "import pandas as pd\n",
    "import tensorflow as tf\n",
    "from tqdm import tqdm\n",
    "\n",
    "from sklearn.model_selection import train_test_split\n",
    "from sklearn.metrics import confusion_matrix"
   ]
  },
  {
   "cell_type": "markdown",
   "id": "405da49d-205e-48df-89ac-cef5004ef95b",
   "metadata": {},
   "source": [
    "# Global variables"
   ]
  },
  {
   "cell_type": "code",
   "execution_count": 2,
   "id": "f7195184-6670-4816-a211-b78207173be3",
   "metadata": {},
   "outputs": [],
   "source": [
    "train_ = False\n",
    "load_ = True\n",
    "\n",
    "label_name = [\"palm_horizontal\", \"L\", \"fist_horizontal\", \"fist_vertical\", \"thumb_up\", \"index\", \"ok\", \"palm_vertical\", \"C\", \"thumb_down\"]\n",
    "test_size = 0.25\n",
    "img_width = 120\n",
    "img_height = 120"
   ]
  },
  {
   "cell_type": "markdown",
   "id": "c646f812-716e-4399-ad8e-a8ee630607bc",
   "metadata": {},
   "source": [
    "# Loading and pre processing data"
   ]
  },
  {
   "cell_type": "code",
   "execution_count": 3,
   "id": "7e8a04b6-d9f8-4b3a-802b-19f3fad2fe68",
   "metadata": {},
   "outputs": [],
   "source": [
    "def load_data(width, height, oper_sys):\n",
    "    X = []\n",
    "    y = []\n",
    "    stop = False\n",
    "    if oper_sys == \"windows\":\n",
    "        split_ = \"\\\\\"\n",
    "    else:\n",
    "        split_ = \"/\"\n",
    "    for root, dirs, files in tqdm(os.walk(\".\", topdown=False)): \n",
    "        for name in files:\n",
    "            path = os.path.join(root, name)\n",
    "            if path.endswith(\"png\"):\n",
    "                # Loading labels\n",
    "                category = path.split(split_)[4]\n",
    "                label = int(category.split(\"_\")[0]) - 1\n",
    "                y.append(label)\n",
    "                # Loading images\n",
    "                img = cv2.imread(path)\n",
    "                img = cv2.cvtColor(img, cv2.COLOR_BGR2GRAY)\n",
    "                img = cv2.resize(img, (width, height))\n",
    "                X.append(img)\n",
    "    X = np.array(X)\n",
    "    y = np.array(y)\n",
    "    return X.reshape(X.shape[0], height, width, 1), y"
   ]
  },
  {
   "cell_type": "code",
   "execution_count": 4,
   "id": "df934d42-b7de-416b-8cda-31b90cc6b3de",
   "metadata": {},
   "outputs": [
    {
     "name": "stderr",
     "output_type": "stream",
     "text": [
      "114it [00:28,  4.00it/s]"
     ]
    },
    {
     "name": "stdout",
     "output_type": "stream",
     "text": [
      "(20000, 120, 120, 1)\n",
      "(20000,)\n"
     ]
    },
    {
     "name": "stderr",
     "output_type": "stream",
     "text": [
      "\n"
     ]
    },
    {
     "data": {
      "image/png": "[encoded data removed]",
      "text/plain": [
       "<Figure size 432x288 with 1 Axes>"
      ]
     },
     "metadata": {
      "needs_background": "light"
     },
     "output_type": "display_data"
    }
   ],
   "source": [
    "if load_ : \n",
    "    X, y = load_data(width=img_width, height=img_height, oper_sys=\"windows\")\n",
    "    print(X.shape)\n",
    "    print(y.shape)\n",
    "    plt.hist(y, bins=10, width=0.7)\n",
    "    plt.title(\"Histogram with 'auto' bins\")\n",
    "    plt.show()\n",
    "    X_train, X_test, y_train, y_test = train_test_split(X, y, test_size=test_size, random_state=42)"
   ]
  },
  {
   "cell_type": "code",
   "execution_count": 5,
   "id": "334005e0-7b2a-45f4-8087-2ee55d1ffabe",
   "metadata": {},
   "outputs": [],
   "source": [
    "# Decomment to check if the images are correctly labeled\n",
    "# for i in range(X.shape[0]):\n",
    "#     if i % 500 == 0:\n",
    "#         plt.imshow(X[i])\n",
    "#         plt.show()\n",
    "#         print(label_name[y[i]])"
   ]
  },
  {
   "cell_type": "markdown",
   "id": "e42a85c8-77d4-4b4f-a1a9-4d734fb00bae",
   "metadata": {},
   "source": [
    "# Building and training simple model"
   ]
  },
  {
   "cell_type": "code",
   "execution_count": 6,
   "id": "a5e77bea-9fcb-4207-b8b4-290c12c26da9",
   "metadata": {},
   "outputs": [],
   "source": [
    "def build_model():\n",
    "    model = tf.keras.models.Sequential()\n",
    "    model.add(tf.keras.layers.Conv2D(32, (5, 5), activation='relu', input_shape=(img_width, img_height, 1))) \n",
    "    model.add(tf.keras.layers.MaxPooling2D((2, 2)))\n",
    "    model.add(tf.keras.layers.Conv2D(64, (3, 3), activation='relu')) \n",
    "    model.add(tf.keras.layers.MaxPooling2D((2, 2)))\n",
    "    model.add(tf.keras.layers.Conv2D(64, (3, 3), activation='relu'))\n",
    "    model.add(tf.keras.layers.MaxPooling2D((2, 2)))\n",
    "    model.add(tf.keras.layers.Flatten())\n",
    "    model.add(tf.keras.layers.Dense(128, activation='relu'))\n",
    "    model.add(tf.keras.layers.Dense(len(label_name), activation='softmax'))\n",
    "    return model"
   ]
  },
  {
   "cell_type": "code",
   "execution_count": 7,
   "id": "7b5aa5aa-daf0-4d8d-982f-9d14f77b2601",
   "metadata": {},
   "outputs": [
    {
     "name": "stdout",
     "output_type": "stream",
     "text": [
      "Model: \"sequential\"\n",
      "_________________________________________________________________\n",
      "Layer (type)                 Output Shape              Param #   \n",
      "=================================================================\n",
      "conv2d (Conv2D)              (None, 116, 116, 32)      832       \n",
      "_________________________________________________________________\n",
      "max_pooling2d (MaxPooling2D) (None, 58, 58, 32)        0         \n",
      "_________________________________________________________________\n",
      "conv2d_1 (Conv2D)            (None, 56, 56, 64)        18496     \n",
      "_________________________________________________________________\n",
      "max_pooling2d_1 (MaxPooling2 (None, 28, 28, 64)        0         \n",
      "_________________________________________________________________\n",
      "conv2d_2 (Conv2D)            (None, 26, 26, 64)        36928     \n",
      "_________________________________________________________________\n",
      "max_pooling2d_2 (MaxPooling2 (None, 13, 13, 64)        0         \n",
      "_________________________________________________________________\n",
      "flatten (Flatten)            (None, 10816)             0         \n",
      "_________________________________________________________________\n",
      "dense (Dense)                (None, 128)               1384576   \n",
      "_________________________________________________________________\n",
      "dense_1 (Dense)              (None, 10)                1290      \n",
      "=================================================================\n",
      "Total params: 1,442,122\n",
      "Trainable params: 1,442,122\n",
      "Non-trainable params: 0\n",
      "_________________________________________________________________\n",
      "157/157 [==============================] - 6s 37ms/step - loss: 4.1626e-06 - accuracy: 1.0000\n",
      "Test accuracy: 100.00%\n"
     ]
    }
   ],
   "source": [
    "if train_ :\n",
    "    model = build_model()\n",
    "    model.compile(optimizer='adam',\n",
    "                  loss='sparse_categorical_crossentropy',\n",
    "                  metrics=['accuracy'])\n",
    "    model.fit(X_train, y_train, epochs=5, batch_size=64, verbose=2, validation_data=(X_test, y_test))\n",
    "    model.save('tmp_model.h5')\n",
    "else:\n",
    "    model = tf.keras.models.load_model(\"model.h5\", custom_objects=None, compile=True, options=None)\n",
    "\n",
    "model.summary()\n",
    "test_loss, test_acc = model.evaluate(X_test, y_test)\n",
    "print('Test accuracy: {:2.2f}%'.format(test_acc*100))"
   ]
  },
  {
   "cell_type": "markdown",
   "id": "f8b11ae4-9c06-419e-9ff1-fd6074433d40",
   "metadata": {},
   "source": [
    "# Using model in inference with computer webcam"
   ]
  },
  {
   "cell_type": "code",
   "execution_count": 8,
   "id": "e3e507f5-20ab-4b98-b73e-2ee8226ce45c",
   "metadata": {},
   "outputs": [],
   "source": [
    "inference_ = False\n",
    "\n",
    "if inference_ :\n",
    "    cv2.destroyAllWindows()\n",
    "\n",
    "    before = time.time()\n",
    "    vid = cv2.VideoCapture(1)\n",
    "    while True:\n",
    "        ret, frame = vid.read()\n",
    "        cv2.imshow('frame', frame)\n",
    "        if cv2.waitKey(1) & 0xFF == ord('q'):\n",
    "            break\n",
    "\n",
    "        # after = int(time.time() - before)\n",
    "        # if after % 5 == 0:\n",
    "        img = cv2.cvtColor(frame, cv2.COLOR_BGR2GRAY)\n",
    "        img = cv2.resize(img, (img_width, img_height))\n",
    "        img = img.reshape(1, img_width, img_height, 1)\n",
    "        print(label_name[np.argmax(model.predict(img))])\n",
    "\n",
    "    vid.release()\n",
    "    cv2.destroyAllWindows()"
   ]
  },
  {
   "cell_type": "code",
   "execution_count": null,
   "id": "b2492587-39d8-44e5-ab31-777df417d651",
   "metadata": {},
   "outputs": [],
   "source": [
    "# For our problem we should take the best prediction out of 100 images, for each final prediction (less error and less decision taken so the robot doesnt go left right left right etc..)"
   ]
  }
 ],
 "metadata": {
  "kernelspec": {
   "display_name": "Python 3 (ipykernel)",
   "language": "python",
   "name": "python3"
  },
  "language_info": {
   "codemirror_mode": {
    "name": "ipython",
    "version": 3
   },
   "file_extension": ".py",
   "mimetype": "text/x-python",
   "name": "python",
   "nbconvert_exporter": "python",
   "pygments_lexer": "ipython3",
   "version": "3.8.12"
  }
 },
 "nbformat": 4,
 "nbformat_minor": 5
}
